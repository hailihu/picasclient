{
 "cells": [
  {
   "cell_type": "markdown",
   "id": "b49cd6b9-d958-4e5a-a20d-b3c0d3da5bf4",
   "metadata": {},
   "source": [
    "# Examples notebook\n",
    "\n",
    "Please put your examples here"
   ]
  },
  {
   "cell_type": "code",
   "execution_count": null,
   "id": "8e30fd48-f220-4625-96bd-41585c1aed56",
   "metadata": {},
   "outputs": [],
   "source": [
    "1+1"
   ]
  }
 ],
 "metadata": {
  "kernelspec": {
   "display_name": "Python 3 (ipykernel)",
   "language": "python",
   "name": "python3"
  },
  "language_info": {
   "codemirror_mode": {
    "name": "ipython",
    "version": 3
   },
   "file_extension": ".py",
   "mimetype": "text/x-python",
   "name": "python",
   "nbconvert_exporter": "python",
   "pygments_lexer": "ipython3",
   "version": "3.9.13"
  }
 },
 "nbformat": 4,
 "nbformat_minor": 5
}
